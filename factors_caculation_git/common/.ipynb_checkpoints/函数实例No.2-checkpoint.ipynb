{
 "cells": [
  {
   "cell_type": "code",
   "execution_count": 2,
   "metadata": {},
   "outputs": [],
   "source": [
    "import numpy as np\n",
    "import pandas as pd\n",
    "from numpy import abs\n",
    "from numpy import log\n",
    "from numpy import sign\n",
    "from scipy.stats import rankdata"
   ]
  },
  {
   "cell_type": "markdown",
   "metadata": {},
   "source": [
    "<h3>估计滚动最小值函数ts_min()实例"
   ]
  },
  {
   "cell_type": "code",
   "execution_count": 23,
   "metadata": {},
   "outputs": [
    {
     "name": "stdout",
     "output_type": "stream",
     "text": [
      "            Value1  Value2\n",
      "Date                      \n",
      "2023-01-01      10     0.5\n",
      "2023-01-02     -15     0.2\n",
      "2023-01-03       7    -0.1\n",
      "2023-01-04      20     0.3\n",
      "2023-01-05      -5     0.8 \n",
      "\n",
      "            Value1  Value2\n",
      "Date                      \n",
      "2023-01-01     NaN     NaN\n",
      "2023-01-02   -15.0     0.2\n",
      "2023-01-03   -15.0    -0.1\n",
      "2023-01-04     7.0    -0.1\n",
      "2023-01-05    -5.0     0.3\n"
     ]
    }
   ],
   "source": [
    "def ts_min(df, window=10):\n",
    "    return df.rolling(window).min()\n",
    "\n",
    "data = {'Date': ['2023-01-01', '2023-01-02', '2023-01-03', '2023-01-04', '2023-01-05'],\n",
    "        'Value1': [10, -15, 7, 20, -5],\n",
    "        'Value2': [0.5, 0.2, -0.1, 0.3, 0.8]\n",
    "        }\n",
    "\n",
    "df = pd.DataFrame(data)\n",
    "\n",
    "# 将日期列转换为日期时间类型\n",
    "df['Date'] = pd.to_datetime(df['Date'])\n",
    "\n",
    "# 将日期列设置为索引\n",
    "df.set_index('Date', inplace=True)\n",
    "\n",
    "rolling_min = ts_min(df, window=2)\n",
    "\n",
    "print(df,\"\\n\")\n",
    "\n",
    "print(rolling_min)"
   ]
  },
  {
   "cell_type": "markdown",
   "metadata": {},
   "source": [
    "<h3>估计滚动最大值函数ts_max()实例"
   ]
  },
  {
   "cell_type": "code",
   "execution_count": 24,
   "metadata": {},
   "outputs": [
    {
     "name": "stdout",
     "output_type": "stream",
     "text": [
      "            Value1  Value2\n",
      "Date                      \n",
      "2023-01-01     NaN     NaN\n",
      "2023-01-02     NaN     NaN\n",
      "2023-01-03    10.0     0.5\n",
      "2023-01-04    20.0     0.3\n",
      "2023-01-05    20.0     0.8\n"
     ]
    }
   ],
   "source": [
    "def ts_max(df, window=10):\n",
    "    return df.rolling(window).max()\n",
    "\n",
    "rolling_max = ts_max(df, window=3)\n",
    "\n",
    "print(rolling_max)"
   ]
  },
  {
   "cell_type": "markdown",
   "metadata": {},
   "source": [
    "<h3>估计差值 delta()"
   ]
  },
  {
   "cell_type": "code",
   "execution_count": 25,
   "metadata": {},
   "outputs": [
    {
     "name": "stdout",
     "output_type": "stream",
     "text": [
      "            Value1  Value2\n",
      "Date                      \n",
      "2023-01-01     NaN     NaN\n",
      "2023-01-02     NaN     NaN\n",
      "2023-01-03    -3.0    -0.6\n",
      "2023-01-04    35.0     0.1\n",
      "2023-01-05   -12.0     0.9\n"
     ]
    }
   ],
   "source": [
    "def delta(df, period=1):\n",
    "    return df.diff(period)\n",
    "\n",
    "print(delta(df,period=2))"
   ]
  },
  {
   "cell_type": "markdown",
   "metadata": {},
   "source": [
    "<h3>估计滞后 delay()"
   ]
  },
  {
   "cell_type": "code",
   "execution_count": 26,
   "metadata": {},
   "outputs": [
    {
     "name": "stdout",
     "output_type": "stream",
     "text": [
      "            Value1  Value2\n",
      "Date                      \n",
      "2023-01-01     NaN     NaN\n",
      "2023-01-02     NaN     NaN\n",
      "2023-01-03    10.0     0.5\n",
      "2023-01-04   -15.0     0.2\n",
      "2023-01-05     7.0    -0.1\n"
     ]
    }
   ],
   "source": [
    "def delay(df, period=1):\n",
    "    return df.shift(period)\n",
    "\n",
    "print(delay(df,period=2))"
   ]
  },
  {
   "cell_type": "markdown",
   "metadata": {},
   "source": [
    "### 横截面等级 rank()"
   ]
  },
  {
   "cell_type": "markdown",
   "metadata": {},
   "source": [
    "注意此函数求得【列】方向上的排名 ，详见下例"
   ]
  },
  {
   "cell_type": "code",
   "execution_count": 27,
   "metadata": {},
   "outputs": [
    {
     "name": "stdout",
     "output_type": "stream",
     "text": [
      "            Value1  Value2\n",
      "Date                      \n",
      "2023-01-01     0.8     0.8\n",
      "2023-01-02     0.2     0.4\n",
      "2023-01-03     0.6     0.2\n",
      "2023-01-04     1.0     0.6\n",
      "2023-01-05     0.4     1.0\n"
     ]
    }
   ],
   "source": [
    "def rank(df):\n",
    "    return df.rank(pct=True)\n",
    "\n",
    "print(rank(df))"
   ]
  },
  {
   "cell_type": "markdown",
   "metadata": {},
   "source": [
    "### 缩放时间序列 scale()"
   ]
  },
  {
   "cell_type": "code",
   "execution_count": 28,
   "metadata": {},
   "outputs": [
    {
     "name": "stdout",
     "output_type": "stream",
     "text": [
      "               Value1     Value2\n",
      "Date                            \n",
      "2023-01-01   8.771930  13.157895\n",
      "2023-01-02 -13.157895   5.263158\n",
      "2023-01-03   6.140351  -2.631579\n",
      "2023-01-04  17.543860   7.894737\n",
      "2023-01-05  -4.385965  21.052632\n"
     ]
    }
   ],
   "source": [
    "def scale(df, k=1):\n",
    "    return df.mul(k).div(np.abs(df).sum())\n",
    "\n",
    "print(scale(df,k=50))"
   ]
  },
  {
   "cell_type": "markdown",
   "metadata": {},
   "source": [
    "### 估计 ts_max(df, window) 发生的对应的窗口内的位置(日期) te_argmax()"
   ]
  },
  {
   "cell_type": "code",
   "execution_count": 29,
   "metadata": {},
   "outputs": [
    {
     "name": "stdout",
     "output_type": "stream",
     "text": [
      "            Value1  Value2\n",
      "Date                      \n",
      "2023-01-01     NaN     NaN\n",
      "2023-01-02     NaN     NaN\n",
      "2023-01-03     1.0     1.0\n",
      "2023-01-04     3.0     3.0\n",
      "2023-01-05     2.0     3.0\n"
     ]
    }
   ],
   "source": [
    "def ts_argmax(df, window=10):\n",
    "    return df.rolling(window).apply(np.argmax) + 1\n",
    "\n",
    "print(ts_argmax(df,window=3))"
   ]
  },
  {
   "cell_type": "markdown",
   "metadata": {},
   "source": [
    "### 估计 ts_min(df, window) 发生的对应的窗口内的位置(日期) te_argmin()"
   ]
  },
  {
   "cell_type": "code",
   "execution_count": 31,
   "metadata": {},
   "outputs": [
    {
     "name": "stdout",
     "output_type": "stream",
     "text": [
      "            Value1  Value2\n",
      "Date                      \n",
      "2023-01-01     NaN     NaN\n",
      "2023-01-02     NaN     NaN\n",
      "2023-01-03     2.0     3.0\n",
      "2023-01-04     1.0     2.0\n",
      "2023-01-05     3.0     1.0\n"
     ]
    }
   ],
   "source": [
    "def ts_argmin(df, window=10):\n",
    "    return df.rolling(window).apply(np.argmin) + 1\n",
    "\n",
    "print(ts_argmin(df,window=3))"
   ]
  },
  {
   "cell_type": "markdown",
   "metadata": {},
   "source": [
    "### 实现线性加权移动平均 decay_linear()"
   ]
  },
  {
   "cell_type": "code",
   "execution_count": 6,
   "metadata": {},
   "outputs": [
    {
     "name": "stdout",
     "output_type": "stream",
     "text": [
      "na_series:\n",
      " [[ 10]\n",
      " [-15]\n",
      " [  7]\n",
      " [ 20]\n",
      " [ -5]]\n",
      "y: [0.33333333 0.66666667]\n",
      "x:\n",
      " [[ 10]\n",
      " [-15]]\n",
      "na_lwma[row, :] [-6]\n",
      "x:\n",
      " [[-15]\n",
      " [  7]]\n",
      "na_lwma[row, :] [0]\n",
      "x:\n",
      " [[ 7]\n",
      " [20]]\n",
      "na_lwma[row, :] [15]\n",
      "x:\n",
      " [[20]\n",
      " [-5]]\n",
      "na_lwma[row, :] [3]\n",
      "            CLOSE\n",
      "Date             \n",
      "2023-01-01     10\n",
      "2023-01-02     -6\n",
      "2023-01-03      0\n",
      "2023-01-04     15\n",
      "2023-01-05      3\n"
     ]
    }
   ],
   "source": [
    "data = {'Date': ['2023-01-01', '2023-01-02', '2023-01-03', '2023-01-04', '2023-01-05'],\n",
    "        'Value1': [10, -15, 7, 20, -5]\n",
    "        }\n",
    "\n",
    "df = pd.DataFrame(data)\n",
    "\n",
    "# 将日期列转换为日期时间类型\n",
    "df['Date'] = pd.to_datetime(df['Date'])\n",
    "\n",
    "# 将日期列设置为索引\n",
    "df.set_index('Date', inplace=True)\n",
    "\n",
    "def decay_linear(df, period=10):\n",
    "    # 清洗数据\n",
    "    if df.isnull().values.any():\n",
    "        df.fillna(method='ffill', inplace=True)\n",
    "        df.fillna(method='bfill', inplace=True)\n",
    "        df.fillna(value=0, inplace=True)\n",
    "    na_lwma = np.zeros_like(df)\n",
    "    na_lwma[:period, :] = df.iloc[:period, :] \n",
    "    na_series = df.to_numpy()\n",
    "    print(\"na_series:\\n\",na_series)\n",
    "\n",
    "    divisor = period * (period + 1) / 2\n",
    "    y = (np.arange(period) + 1) * 1.0 / divisor# y = [1/3, 2/3]\n",
    "    print(\"y:\",y)\n",
    "    # 用实际收盘价估算实际lwma\n",
    "    # 确保回测引擎不受过度拟合影响\n",
    "    for row in range(period - 1, df.shape[0]):\n",
    "        x = na_series[row - period + 1: row + 1, :] # x = [10, -15]\n",
    "        print(\"x:\\n\",x)\n",
    "        na_lwma[row, :] = (np.dot(x.T, y))\n",
    "        print(\"na_lwma[row, :]\",na_lwma[row, :])\n",
    "    return pd.DataFrame(na_lwma, index=df.index, columns=['CLOSE'])\n",
    "\n",
    "print(decay_linear(df,period=2))"
   ]
  }
 ],
 "metadata": {
  "kernelspec": {
   "display_name": "Python 3 (ipykernel)",
   "language": "python",
   "name": "python3"
  },
  "language_info": {
   "codemirror_mode": {
    "name": "ipython",
    "version": 3
   },
   "file_extension": ".py",
   "mimetype": "text/x-python",
   "name": "python",
   "nbconvert_exporter": "python",
   "pygments_lexer": "ipython3",
   "version": "3.11.5"
  }
 },
 "nbformat": 4,
 "nbformat_minor": 2
}
